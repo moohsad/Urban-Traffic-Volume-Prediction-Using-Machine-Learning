{
 "cells": [
  {
   "cell_type": "markdown",
   "metadata": {},
   "source": [
    "# Urban Traffic Prediction\n",
    "This project preprocesses traffic data from four junctions in Isfahan to predict hourly car counts using machine learning."
   ]
  },
  {
   "cell_type": "markdown",
   "metadata": {},
   "source": [
    "## Dataset Overview\n",
    "- **Rows**: 48,120\n",
    "- **Columns**: 3 (initially)\n",
    "- **Features**: DateTime, Junction, Car\n",
    "- **Target**: `Car` (number of cars passing per hour)\n",
    "- **Time Span**: May 2020 to December 2021"
   ]
  },
  {
   "cell_type": "code",
   "execution_count": 1,
   "metadata": {},
   "outputs": [
    {
     "name": "stderr",
     "output_type": "stream",
     "text": [
      "C:\\Users\\MSI\\AppData\\Roaming\\Python\\Python310\\site-packages\\khayyam\\algorithms.py:18: UserWarning: The C extension is not available. Switching to fallback python pure algorithms,so it's about 1000X slower than C implementation of the algorithms.\n",
      "  warnings.warn(\n"
     ]
    }
   ],
   "source": [
    "# Import libraries\n",
    "import numpy as np\n",
    "import pandas as pd\n",
    "from khayyam import JalaliDatetime\n",
    "from pathlib import Path\n",
    "import lightgbm as lgb\n",
    "from sklearn.metrics import r2_score\n",
    "from sklearn.model_selection import train_test_split"
   ]
  },
  {
   "cell_type": "code",
   "execution_count": 3,
   "metadata": {},
   "outputs": [
    {
     "data": {
      "text/html": [
       "<div>\n",
       "<style scoped>\n",
       "    .dataframe tbody tr th:only-of-type {\n",
       "        vertical-align: middle;\n",
       "    }\n",
       "\n",
       "    .dataframe tbody tr th {\n",
       "        vertical-align: top;\n",
       "    }\n",
       "\n",
       "    .dataframe thead th {\n",
       "        text-align: right;\n",
       "    }\n",
       "</style>\n",
       "<table border=\"1\" class=\"dataframe\">\n",
       "  <thead>\n",
       "    <tr style=\"text-align: right;\">\n",
       "      <th></th>\n",
       "      <th>DateTime</th>\n",
       "      <th>Junction</th>\n",
       "      <th>Car</th>\n",
       "    </tr>\n",
       "  </thead>\n",
       "  <tbody>\n",
       "    <tr>\n",
       "      <th>0</th>\n",
       "      <td>2020-05-02 00:00:00</td>\n",
       "      <td>1</td>\n",
       "      <td>25</td>\n",
       "    </tr>\n",
       "    <tr>\n",
       "      <th>1</th>\n",
       "      <td>2020-05-02 01:00:00</td>\n",
       "      <td>1</td>\n",
       "      <td>23</td>\n",
       "    </tr>\n",
       "    <tr>\n",
       "      <th>2</th>\n",
       "      <td>2020-05-02 02:00:00</td>\n",
       "      <td>1</td>\n",
       "      <td>20</td>\n",
       "    </tr>\n",
       "    <tr>\n",
       "      <th>3</th>\n",
       "      <td>2020-05-02 03:00:00</td>\n",
       "      <td>1</td>\n",
       "      <td>12</td>\n",
       "    </tr>\n",
       "    <tr>\n",
       "      <th>4</th>\n",
       "      <td>2020-05-02 04:00:00</td>\n",
       "      <td>1</td>\n",
       "      <td>19</td>\n",
       "    </tr>\n",
       "  </tbody>\n",
       "</table>\n",
       "</div>"
      ],
      "text/plain": [
       "             DateTime  Junction  Car\n",
       "0 2020-05-02 00:00:00         1   25\n",
       "1 2020-05-02 01:00:00         1   23\n",
       "2 2020-05-02 02:00:00         1   20\n",
       "3 2020-05-02 03:00:00         1   12\n",
       "4 2020-05-02 04:00:00         1   19"
      ]
     },
     "execution_count": 3,
     "metadata": {},
     "output_type": "execute_result"
    }
   ],
   "source": [
    "# Load dataset\n",
    "data_path = Path('traffic.csv')\n",
    "df = pd.read_csv(data_path, parse_dates=['DateTime'])\n",
    "df.head()"
   ]
  },
  {
   "cell_type": "markdown",
   "metadata": {},
   "source": [
    "## Feature Engineering\n",
    "### 1. Convert to Jalali DateTime\n",
    "- Convert Gregorian `DateTime` to Persian calendar `JalaliDateTime`."
   ]
  },
  {
   "cell_type": "code",
   "execution_count": 4,
   "metadata": {},
   "outputs": [],
   "source": [
    "df['JalaliDateTime'] = df['DateTime'].apply(JalaliDatetime)"
   ]
  },
  {
   "cell_type": "markdown",
   "metadata": {},
   "source": [
    "### 2. Discretize Hour\n",
    "- Categorize hours into 6 time blocks based on traffic patterns."
   ]
  },
  {
   "cell_type": "code",
   "execution_count": 5,
   "metadata": {},
   "outputs": [],
   "source": [
    "def discretize_hour(hour):\n",
    "    if hour < 6: return 0\n",
    "    elif hour < 12: return 1\n",
    "    elif hour < 15: return 2\n",
    "    elif hour < 18: return 3\n",
    "    elif hour < 22: return 4\n",
    "    return 5\n",
    "\n",
    "df['hour'] = df['DateTime'].dt.hour.apply(discretize_hour)"
   ]
  },
  {
   "cell_type": "markdown",
   "metadata": {},
   "source": [
    "### 3. Holiday Indicator\n",
    "- Mark Fridays as holidays (1) and other days as non-holidays (0)."
   ]
  },
  {
   "cell_type": "code",
   "execution_count": 6,
   "metadata": {},
   "outputs": [],
   "source": [
    "df['IsHoliday'] = df['DateTime'].dt.day_name().apply(lambda x: 1 if x == 'Friday' else 0)"
   ]
  },
  {
   "cell_type": "markdown",
   "metadata": {},
   "source": [
    "### 4. Seasonal Indicator\n",
    "- Label cold months (Mehr to Esfand, months 7-12) as 1 and warm months (Farvardin to Shahrivar, months 1-6) as 0."
   ]
  },
  {
   "cell_type": "code",
   "execution_count": 7,
   "metadata": {},
   "outputs": [],
   "source": [
    "df['IsCold'] = df['JalaliDateTime'].apply(lambda x: 1 if x.month > 6 else 0)"
   ]
  },
  {
   "cell_type": "markdown",
   "metadata": {},
   "source": [
    "### 5. One-Hot Encode Junction\n",
    "- Convert `Junction` into four binary columns."
   ]
  },
  {
   "cell_type": "code",
   "execution_count": 8,
   "metadata": {},
   "outputs": [],
   "source": [
    "junction_encoded = pd.get_dummies(df['Junction'], prefix='Junc')\n",
    "df = df.join(junction_encoded)"
   ]
  },
  {
   "cell_type": "markdown",
   "metadata": {},
   "source": [
    "### 6. Additional Features\n",
    "- **Day of Week**: Extracted from `DateTime` (0=Mon, 6=Sun).\n",
    "- **Month**: Jalali month for seasonal patterns.\n",
    "- **Lag Feature**: Number of cars in the previous hour per junction.\n",
    "- **Rolling Mean**: 24-hour rolling average of car counts per junction."
   ]
  },
  {
   "cell_type": "code",
   "execution_count": 9,
   "metadata": {},
   "outputs": [
    {
     "name": "stderr",
     "output_type": "stream",
     "text": [
      "C:\\Users\\MSI\\AppData\\Local\\Temp\\ipykernel_12212\\2876381300.py:8: FutureWarning: Series.fillna with 'method' is deprecated and will raise in a future version. Use obj.ffill() or obj.bfill() instead.\n",
      "  df['lag_1'] = df.groupby('Junction')['Car'].shift(1).fillna(method='bfill')\n"
     ]
    }
   ],
   "source": [
    "# Day of week\n",
    "df['day_of_week'] = df['DateTime'].dt.dayofweek\n",
    "\n",
    "# Jalali month\n",
    "df['month'] = df['JalaliDateTime'].apply(lambda x: x.month)\n",
    "\n",
    "# Lag feature (previous hour's car count per junction)\n",
    "df['lag_1'] = df.groupby('Junction')['Car'].shift(1).fillna(method='bfill')\n",
    "\n",
    "# Rolling mean (24-hour window per junction)\n",
    "df['rolling_mean_24'] = df.groupby('Junction')['Car'].transform(lambda x: x.rolling(24, min_periods=1).mean())"
   ]
  },
  {
   "cell_type": "code",
   "execution_count": 11,
   "id": "acf755a5",
   "metadata": {},
   "outputs": [
    {
     "data": {
      "text/html": [
       "<div>\n",
       "<style scoped>\n",
       "    .dataframe tbody tr th:only-of-type {\n",
       "        vertical-align: middle;\n",
       "    }\n",
       "\n",
       "    .dataframe tbody tr th {\n",
       "        vertical-align: top;\n",
       "    }\n",
       "\n",
       "    .dataframe thead th {\n",
       "        text-align: right;\n",
       "    }\n",
       "</style>\n",
       "<table border=\"1\" class=\"dataframe\">\n",
       "  <thead>\n",
       "    <tr style=\"text-align: right;\">\n",
       "      <th></th>\n",
       "      <th>DateTime</th>\n",
       "      <th>Junction</th>\n",
       "      <th>Car</th>\n",
       "      <th>JalaliDateTime</th>\n",
       "      <th>hour</th>\n",
       "      <th>IsHoliday</th>\n",
       "      <th>IsCold</th>\n",
       "      <th>Junc_1</th>\n",
       "      <th>Junc_2</th>\n",
       "      <th>Junc_3</th>\n",
       "      <th>Junc_4</th>\n",
       "      <th>day_of_week</th>\n",
       "      <th>month</th>\n",
       "      <th>lag_1</th>\n",
       "      <th>rolling_mean_24</th>\n",
       "    </tr>\n",
       "  </thead>\n",
       "  <tbody>\n",
       "    <tr>\n",
       "      <th>0</th>\n",
       "      <td>2020-05-02 00:00:00</td>\n",
       "      <td>1</td>\n",
       "      <td>25</td>\n",
       "      <td>1399-02-13 00:00:00.000000</td>\n",
       "      <td>0</td>\n",
       "      <td>0</td>\n",
       "      <td>0</td>\n",
       "      <td>True</td>\n",
       "      <td>False</td>\n",
       "      <td>False</td>\n",
       "      <td>False</td>\n",
       "      <td>5</td>\n",
       "      <td>2</td>\n",
       "      <td>25.0</td>\n",
       "      <td>25.000000</td>\n",
       "    </tr>\n",
       "    <tr>\n",
       "      <th>1</th>\n",
       "      <td>2020-05-02 01:00:00</td>\n",
       "      <td>1</td>\n",
       "      <td>23</td>\n",
       "      <td>1399-02-13 01:00:00.000000</td>\n",
       "      <td>0</td>\n",
       "      <td>0</td>\n",
       "      <td>0</td>\n",
       "      <td>True</td>\n",
       "      <td>False</td>\n",
       "      <td>False</td>\n",
       "      <td>False</td>\n",
       "      <td>5</td>\n",
       "      <td>2</td>\n",
       "      <td>25.0</td>\n",
       "      <td>24.000000</td>\n",
       "    </tr>\n",
       "    <tr>\n",
       "      <th>2</th>\n",
       "      <td>2020-05-02 02:00:00</td>\n",
       "      <td>1</td>\n",
       "      <td>20</td>\n",
       "      <td>1399-02-13 02:00:00.000000</td>\n",
       "      <td>0</td>\n",
       "      <td>0</td>\n",
       "      <td>0</td>\n",
       "      <td>True</td>\n",
       "      <td>False</td>\n",
       "      <td>False</td>\n",
       "      <td>False</td>\n",
       "      <td>5</td>\n",
       "      <td>2</td>\n",
       "      <td>23.0</td>\n",
       "      <td>22.666667</td>\n",
       "    </tr>\n",
       "    <tr>\n",
       "      <th>3</th>\n",
       "      <td>2020-05-02 03:00:00</td>\n",
       "      <td>1</td>\n",
       "      <td>12</td>\n",
       "      <td>1399-02-13 03:00:00.000000</td>\n",
       "      <td>0</td>\n",
       "      <td>0</td>\n",
       "      <td>0</td>\n",
       "      <td>True</td>\n",
       "      <td>False</td>\n",
       "      <td>False</td>\n",
       "      <td>False</td>\n",
       "      <td>5</td>\n",
       "      <td>2</td>\n",
       "      <td>20.0</td>\n",
       "      <td>20.000000</td>\n",
       "    </tr>\n",
       "    <tr>\n",
       "      <th>4</th>\n",
       "      <td>2020-05-02 04:00:00</td>\n",
       "      <td>1</td>\n",
       "      <td>19</td>\n",
       "      <td>1399-02-13 04:00:00.000000</td>\n",
       "      <td>0</td>\n",
       "      <td>0</td>\n",
       "      <td>0</td>\n",
       "      <td>True</td>\n",
       "      <td>False</td>\n",
       "      <td>False</td>\n",
       "      <td>False</td>\n",
       "      <td>5</td>\n",
       "      <td>2</td>\n",
       "      <td>12.0</td>\n",
       "      <td>19.800000</td>\n",
       "    </tr>\n",
       "  </tbody>\n",
       "</table>\n",
       "</div>"
      ],
      "text/plain": [
       "             DateTime  Junction  Car              JalaliDateTime  hour  \\\n",
       "0 2020-05-02 00:00:00         1   25  1399-02-13 00:00:00.000000     0   \n",
       "1 2020-05-02 01:00:00         1   23  1399-02-13 01:00:00.000000     0   \n",
       "2 2020-05-02 02:00:00         1   20  1399-02-13 02:00:00.000000     0   \n",
       "3 2020-05-02 03:00:00         1   12  1399-02-13 03:00:00.000000     0   \n",
       "4 2020-05-02 04:00:00         1   19  1399-02-13 04:00:00.000000     0   \n",
       "\n",
       "   IsHoliday  IsCold  Junc_1  Junc_2  Junc_3  Junc_4  day_of_week  month  \\\n",
       "0          0       0    True   False   False   False            5      2   \n",
       "1          0       0    True   False   False   False            5      2   \n",
       "2          0       0    True   False   False   False            5      2   \n",
       "3          0       0    True   False   False   False            5      2   \n",
       "4          0       0    True   False   False   False            5      2   \n",
       "\n",
       "   lag_1  rolling_mean_24  \n",
       "0   25.0        25.000000  \n",
       "1   25.0        24.000000  \n",
       "2   23.0        22.666667  \n",
       "3   20.0        20.000000  \n",
       "4   12.0        19.800000  "
      ]
     },
     "execution_count": 11,
     "metadata": {},
     "output_type": "execute_result"
    }
   ],
   "source": [
    "df.head()"
   ]
  },
  {
   "cell_type": "markdown",
   "metadata": {},
   "source": [
    "## Model Training and Evaluation\n",
    "- Use LightGBM for regression.\n",
    "- Split data: 70% train, 30% test.\n",
    "- Evaluate with R² score."
   ]
  },
  {
   "cell_type": "code",
   "execution_count": 10,
   "metadata": {},
   "outputs": [
    {
     "name": "stdout",
     "output_type": "stream",
     "text": [
      "[LightGBM] [Info] Auto-choosing row-wise multi-threading, the overhead of testing was 0.000889 seconds.\n",
      "You can set `force_row_wise=true` to remove the overhead.\n",
      "And if memory is not enough, you can set `force_col_wise=true`.\n",
      "[LightGBM] [Info] Total Bins 435\n",
      "[LightGBM] [Info] Number of data points in the train set: 33684, number of used features: 11\n",
      "[LightGBM] [Info] Start training from score 3.420151\n",
      "Model R² Score: 96.11%\n"
     ]
    }
   ],
   "source": [
    "# Prepare features and target\n",
    "features = ['hour', 'IsHoliday', 'IsCold', 'Junc_1', 'Junc_2', 'Junc_3', 'Junc_4', \n",
    "            'day_of_week', 'month', 'lag_1', 'rolling_mean_24']\n",
    "target = 'Car'\n",
    "\n",
    "X = df[features]\n",
    "y = np.log1p(df[target])  # Log-transform target for better distribution\n",
    "\n",
    "# Split data\n",
    "X_train, X_test, y_train, y_test = train_test_split(X, y, test_size=0.3, random_state=42)\n",
    "\n",
    "# Train LightGBM model\n",
    "lgb_model = lgb.LGBMRegressor(n_estimators=500, learning_rate=0.05, random_state=42)\n",
    "lgb_model.fit(X_train, y_train)\n",
    "\n",
    "# Predict and evaluate\n",
    "y_pred = np.expm1(lgb_model.predict(X_test))  # Reverse log-transform\n",
    "y_test_raw = np.expm1(y_test)\n",
    "r2 = r2_score(y_test_raw, y_pred) * 100\n",
    "print(f'Model R² Score: {r2:.2f}%')"
   ]
  },
  {
   "cell_type": "markdown",
   "metadata": {},
   "source": [
    "## Save Outputs\n",
    "- Export processed data and submission file."
   ]
  },
  {
   "cell_type": "code",
   "execution_count": null,
   "metadata": {},
   "outputs": [],
   "source": [
    "# Submission columns\n",
    "submission_cols = ['JalaliDateTime', 'hour', 'IsHoliday', 'IsCold', 'Junc_1', 'Junc_2', 'Junc_3', 'Junc_4']\n",
    "submission_df = df[submission_cols]\n",
    "\n",
    "# Save files\n",
    "output_dir = Path('outputs')\n",
    "output_dir.mkdir(exist_ok=True)\n",
    "\n",
    "submission_df.to_csv(output_dir / 'df.csv', index=False)\n",
    "df.to_csv(output_dir / 'processed_df.csv', index=False)\n",
    "\n",
    "# Compress outputs\n",
    "import zipfile\n",
    "files = ['df.csv', 'processed_df.csv']\n",
    "with zipfile.ZipFile(output_dir / 'results.zip', 'w', compression=zipfile.ZIP_DEFLATED) as zf:\n",
    "    for file in files:\n",
    "        zf.write(output_dir / file, file)"
   ]
  }
 ],
 "metadata": {
  "kernelspec": {
   "display_name": "Python 3 (ipykernel)",
   "language": "python",
   "name": "python3"
  },
  "language_info": {
   "codemirror_mode": {
    "name": "ipython",
    "version": 3
   },
   "file_extension": ".py",
   "mimetype": "text/x-python",
   "name": "python",
   "nbconvert_exporter": "python",
   "pygments_lexer": "ipython3",
   "version": "3.10.5"
  }
 },
 "nbformat": 4,
 "nbformat_minor": 5
}
